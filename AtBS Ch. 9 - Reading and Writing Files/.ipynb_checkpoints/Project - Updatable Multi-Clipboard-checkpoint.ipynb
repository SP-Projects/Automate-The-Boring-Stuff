{
 "cells": [
  {
   "cell_type": "markdown",
   "metadata": {},
   "source": [
    "# Concept:\n",
    "\n",
    "    - Re-writing the multi-clipboard program from chapter 6 to use the shelve module.\n",
    "    - The user may now save new strings to the clipboard without modifying the source code\n",
    "    - Should be converted to .pyw, so that python doesn't show a terminal window when written."
   ]
  },
  {
   "cell_type": "code",
   "execution_count": 4,
   "metadata": {},
   "outputs": [
    {
     "name": "stdout",
     "output_type": "stream",
     "text": [
      "Unknown argument: -f\n"
     ]
    }
   ],
   "source": [
    "#!/usr/bin/env python3\n",
    "'''\n",
    "mcb.pyw: Saves and loads pieces of text to the clipboard\n",
    "usage: py.exe mcb.pyw save <keyword> - saves clipboard to keyword\n",
    "       py.exe mcb.pyw <keyword> - Loads keyword to clipboard\n",
    "       py.exe mcb.pyw list - Loads all keyword to clipboard\n",
    "'''\n",
    "import shelve, pyperclip, sys\n",
    "\n",
    "#Create Shelf to save content\n",
    "mcbShelf = shelve.open('mcb')\n",
    "#TODO: Save clipboard content\n",
    "if len(sys.argv) == 3 and sys.argv[1].lower() == 'save':\n",
    "    #sys.argv[2] is the keyword to be saved.\n",
    "    #save contents of clipboard to shelf file, with keyword\n",
    "    mcbShelf[sys.argv[2]] = pyperclip.paste()\n",
    "    \n",
    "#TODO: List keyword and load content\n",
    "elif len(sys.argv) == 2:\n",
    "    #2 arguments; probably a list, or a keyword\n",
    "    if sys.argv[1].lower() == 'list':\n",
    "        #load list to clipboard\n",
    "        pyperclip.copy(str(list(mcbShelf.keys())))\n",
    "    elif sys.argv[1] in mcbShelf:\n",
    "        pyperclip.copy(mcbShelf[sys.argv[1]])\n",
    "        \n",
    "else:\n",
    "    print('Unknown argument: ' + str(sys.argv[1]))\n",
    "mcbShelf.close()"
   ]
  },
  {
   "cell_type": "code",
   "execution_count": null,
   "metadata": {},
   "outputs": [],
   "source": []
  }
 ],
 "metadata": {
  "kernelspec": {
   "display_name": "Python 3",
   "language": "python",
   "name": "python3"
  },
  "language_info": {
   "codemirror_mode": {
    "name": "ipython",
    "version": 3
   },
   "file_extension": ".py",
   "mimetype": "text/x-python",
   "name": "python",
   "nbconvert_exporter": "python",
   "pygments_lexer": "ipython3",
   "version": "3.7.5"
  }
 },
 "nbformat": 4,
 "nbformat_minor": 2
}
