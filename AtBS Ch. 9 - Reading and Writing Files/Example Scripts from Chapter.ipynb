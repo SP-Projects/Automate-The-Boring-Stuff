{
 "cells": [
  {
   "cell_type": "code",
   "execution_count": 10,
   "metadata": {},
   "outputs": [],
   "source": [
    "from pathlib import Path\n",
    "import os"
   ]
  },
  {
   "cell_type": "code",
   "execution_count": 9,
   "metadata": {},
   "outputs": [
    {
     "name": "stdout",
     "output_type": "stream",
     "text": [
      "Spam/Bacon/Eggs\n",
      "Spam/Bacon/Eggs \n",
      " Spam/Bacon/Eggs\n"
     ]
    }
   ],
   "source": [
    "x = Path('Spam', 'Bacon', 'Eggs')\n",
    "print(str(x))\n",
    "\n",
    "#join 2+ filepaths with the / operator\n",
    "y = Path('Spam') / 'Bacon' / 'Eggs'\n",
    "z = Path('Spam') / Path('Bacon', 'Eggs')\n",
    "print(y, '\\n', z)"
   ]
  },
  {
   "cell_type": "code",
   "execution_count": 14,
   "metadata": {},
   "outputs": [
    {
     "name": "stdout",
     "output_type": "stream",
     "text": [
      "/usr\n",
      "<bound method Path.cwd of <class 'pathlib.Path'>>\n"
     ]
    }
   ],
   "source": [
    "#current working directory\n",
    "cwd = Path.cwd()\n",
    "print(str(cwd))\n",
    "os.chdir('/usr/')\n",
    "print(str(Path.cwd))\n",
    "os.chdir(cwd)"
   ]
  },
  {
   "cell_type": "code",
   "execution_count": 19,
   "metadata": {},
   "outputs": [
    {
     "name": "stdout",
     "output_type": "stream",
     "text": [
      "True\n",
      "False\n",
      "/home/mc/Documents/Python Projects/AtBS Ch. 9 - Reading and Writing Files/spam/bacon/eggs\n"
     ]
    }
   ],
   "source": [
    "#Absolute and relative paths\n",
    "os.chdir('/home/mc/Documents/Python Projects/AtBS Ch. 9 - Reading and Writing Files')\n",
    "cwd = Path.cwd()\n",
    "print(cwd.is_absolute())\n",
    "\n",
    "#relative path:\n",
    "print(Path('spam/bacon/eggs').is_absolute())\n",
    "\n",
    "#absolute from relative:\n",
    "print(Path.cwd() / Path('spam/bacon/eggs'))"
   ]
  },
  {
   "cell_type": "code",
   "execution_count": 22,
   "metadata": {},
   "outputs": [
    {
     "name": "stdout",
     "output_type": "stream",
     "text": [
      "/ \n",
      " /home/MC/Documents \n",
      " untitled.blend \n",
      " untitled \n",
      " .blend \n",
      "\n"
     ]
    }
   ],
   "source": [
    "#Attributes of a filepath\n",
    "p = Path('/home/MC/Documents/untitled.blend')\n",
    "print(p.anchor, '\\n',\\\n",
    "     p.parent, '\\n',\\\n",
    "     p.name, '\\n',\\\n",
    "     p.stem, '\\n',\\\n",
    "     p.suffix, '\\n',)\n",
    "\n",
    "#getting the ancestor folders of the parent\n",
    "p = Path.cwd()\n",
    "print(p.parents[0])"
   ]
  },
  {
   "cell_type": "code",
   "execution_count": 28,
   "metadata": {},
   "outputs": [
    {
     "name": "stdout",
     "output_type": "stream",
     "text": [
      "[PosixPath('/home/mc/Documents/Python Projects/AtBS Ch. 9 - Reading and Writing Files/Example Scripts from Chapter.ipynb')]\n",
      "Exists: True \n",
      "Is File: False\n",
      "Is Dir: True\n"
     ]
    }
   ],
   "source": [
    "#Glob and Path Validity\n",
    "p = Path.cwd()\n",
    "print(list(p.glob('*.i?ynb')))\n",
    "\n",
    "print(\"Exists: {0} \\nIs File: {1}\\nIs Dir: {2}\".format(p.exists(),\\\n",
    "                                                      p.is_file(),\\\n",
    "                                                      p.is_dir()))"
   ]
  },
  {
   "cell_type": "code",
   "execution_count": 33,
   "metadata": {},
   "outputs": [
    {
     "name": "stdout",
     "output_type": "stream",
     "text": [
      "Hello, World\n",
      "Goodbye, World\n"
     ]
    }
   ],
   "source": [
    "#Reading and writing text file\n",
    "p = Path('spam.txt')\n",
    "p.write_text('Hello, World\\nGoodbye, World')\n",
    "print(p.read_text())"
   ]
  },
  {
   "cell_type": "code",
   "execution_count": 40,
   "metadata": {},
   "outputs": [
    {
     "name": "stdout",
     "output_type": "stream",
     "text": [
      "Hello, World\n",
      "Okay Then\n",
      "[]\n",
      "Hello, World\n",
      "Okay Then\n"
     ]
    }
   ],
   "source": [
    "#Opening, Reading/Writing and closing Files\n",
    "\n",
    "#Use open() function to open the file\n",
    "spamFile = open(Path.cwd() / 'spam.txt')\n",
    "\n",
    "#read the entire contexts as a string value\n",
    "spamContents = spamFile.read()\n",
    "print(spamContents)\n",
    "\n",
    "#Read the contents as a list of strings\n",
    "spamLines = spamFile.readlines()\n",
    "print(spamLines)\n",
    "#close the damn file\n",
    "spamFile.close()\n",
    "\n",
    "#Open it in write mode:\n",
    "spamFile = open(Path.cwd() / 'spam.txt', 'w')\n",
    "spamFile.write('Hello, World')\n",
    "spamFile.close()\n",
    "\n",
    "#open it in append mode\n",
    "spamFile = open(Path.cwd() / 'spam.txt', 'a')\n",
    "spamFile.write('\\nOkay Then')\n",
    "spamFile.close()\n",
    "\n",
    "#make sure it worked\n",
    "spamFile = open('spam.txt')\n",
    "print(spamFile.read())"
   ]
  },
  {
   "cell_type": "code",
   "execution_count": 41,
   "metadata": {},
   "outputs": [],
   "source": [
    "import shelve"
   ]
  },
  {
   "cell_type": "code",
   "execution_count": 55,
   "metadata": {},
   "outputs": [],
   "source": [
    "#open a shelf file\n",
    "shelfFile = shelve.open('bugger')\n",
    "cats = ['Archie', 'Percy', 'Willow']\n",
    "#edit a shelf file like a dict\n",
    "shelfFile['cat'] = cats\n",
    "\n",
    "#close the shelf file\n",
    "shelfFile.close()"
   ]
  },
  {
   "cell_type": "code",
   "execution_count": 54,
   "metadata": {},
   "outputs": [
    {
     "name": "stdout",
     "output_type": "stream",
     "text": [
      "<class 'shelve.DbfilenameShelf'>\n",
      "['Archie', 'Percy', 'Willow']\n",
      "['cat']\n",
      "[['Archie', 'Percy', 'Willow']]\n"
     ]
    }
   ],
   "source": [
    "#the shelf file can later be used to recover data in the file.\n",
    "shelfFile = shelve.open('bugger')\n",
    "print(type(shelfFile))\n",
    "\n",
    "print(shelfFile['cat'])\n",
    "\n",
    "#view the keys\n",
    "print(list(shelfFile.keys()))\n",
    "print(list(shelfFile.values()))\n",
    "shelfFile.close()"
   ]
  },
  {
   "cell_type": "code",
   "execution_count": 51,
   "metadata": {},
   "outputs": [],
   "source": [
    "shelfFile.close()"
   ]
  },
  {
   "cell_type": "code",
   "execution_count": 56,
   "metadata": {},
   "outputs": [],
   "source": [
    "#Using pprint.pformat()\n",
    "import pprint"
   ]
  },
  {
   "cell_type": "code",
   "execution_count": 60,
   "metadata": {},
   "outputs": [
    {
     "name": "stdout",
     "output_type": "stream",
     "text": [
      "[PosixPath('/home/mc/Documents/Python Projects/AtBS Ch. 9 - Reading and Writing Files/myCats.py')]\n"
     ]
    }
   ],
   "source": [
    "#save a list of dicts to a .py file than can then be imported\n",
    "cats = [{'name': 'Archie', 'desc': 'baby'}, {'name': 'Percy', 'desc': 'Fat'}]\n",
    "\n",
    "#converted it to a pformat string\n",
    "pCats = pprint.pformat(cats)\n",
    "fileObj = open('myCats.py', 'w')\n",
    "fileObj.write('cats = ' + pCats + '\\n') #Write line of code to .py file\n",
    "fileObj.close()\n",
    "\n",
    "#check that it's there with glob\n",
    "print(list(Path.cwd().glob('*.py')))"
   ]
  },
  {
   "cell_type": "code",
   "execution_count": 62,
   "metadata": {},
   "outputs": [
    {
     "name": "stdout",
     "output_type": "stream",
     "text": [
      "[{'desc': 'baby', 'name': 'Archie'}, {'desc': 'Fat', 'name': 'Percy'}]\n"
     ]
    }
   ],
   "source": [
    "#import the created file\n",
    "import myCats\n",
    "#read the data\n",
    "print(myCats.cats) #returns the original list\n",
    "print(myCats.cats)"
   ]
  },
  {
   "cell_type": "code",
   "execution_count": null,
   "metadata": {},
   "outputs": [],
   "source": []
  }
 ],
 "metadata": {
  "kernelspec": {
   "display_name": "Python 3",
   "language": "python",
   "name": "python3"
  },
  "language_info": {
   "codemirror_mode": {
    "name": "ipython",
    "version": 3
   },
   "file_extension": ".py",
   "mimetype": "text/x-python",
   "name": "python",
   "nbconvert_exporter": "python",
   "pygments_lexer": "ipython3",
   "version": "3.7.5"
  }
 },
 "nbformat": 4,
 "nbformat_minor": 2
}
