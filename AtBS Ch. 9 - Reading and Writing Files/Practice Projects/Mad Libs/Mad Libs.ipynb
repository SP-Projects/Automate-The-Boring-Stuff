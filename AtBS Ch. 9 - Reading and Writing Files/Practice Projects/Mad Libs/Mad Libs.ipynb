{
 "cells": [
  {
   "cell_type": "code",
   "execution_count": 14,
   "metadata": {},
   "outputs": [
    {
     "name": "stdout",
     "output_type": "stream",
     "text": [
      "Enter an Adjective:\n",
      "stupid\n",
      "Enter a Noun:\n",
      "wanker\n",
      "Enter a past-tense Verb: \n",
      "cunted\n",
      "Enter a Noun:\n",
      "Train\n",
      "The stupid panda walked to the wanker and then cunted. A nearby wanker was unaffected by these events.\n"
     ]
    }
   ],
   "source": [
    "!#python3\n",
    "'''\n",
    "A simple program to generate a mad lib.\n",
    "Gets the text from a file and replaces \n",
    "'''\n",
    "import re\n",
    "from pathlib import Path\n",
    "import pyinputplus as pyip\n",
    "\n",
    "#create a path to the madlib file\n",
    "madPath = Path('./Mad Lib.txt')\n",
    "madFile = open(madPath, 'r')\n",
    "madString = madFile.read()\n",
    "#TODO: Ask the user for an Adjective, Noun, Verb and another Noun\n",
    "\n",
    "madAdj = pyip.inputStr('Enter an Adjective:\\n', limit = 3, default = 'Fucking')\n",
    "madNoun1 = pyip.inputStr('Enter a Noun:\\n', limit = 3, default = 'Fucker')\n",
    "madVerb = pyip.inputStr('Enter a past-tense Verb: \\n', limit = 3, default = 'Fucked')\n",
    "madNoun2 = pyip.inputStr('Enter a Noun:\\n', limit = 3, default = 'Fucker')\n",
    "#TODO: Substitute each user input for keywords in file\n",
    "\n",
    "adjReg = re.compile('ADJECTIVE')\n",
    "nounReg = re.compile('NOUN')\n",
    "verbReg = re.compile('VERB')\n",
    "#replace with user inputs\n",
    "madString = re.sub(adjReg, madAdj, madString)\n",
    "madString = re.sub(nounReg, madNoun1, madString)\n",
    "madString = re.sub(verbReg, madVerb, madString)\n",
    "madString = re.sub(nounReg, madNoun2, madString)\n",
    "\n",
    "print(madString)\n",
    "madFile.close()\n"
   ]
  },
  {
   "cell_type": "markdown",
   "metadata": {},
   "source": [
    "Note: Could make it more generic by asking user for input for each instance of Adj, Noun, Verb, etc.\n",
    "Maybe another day"
   ]
  },
  {
   "cell_type": "code",
   "execution_count": null,
   "metadata": {},
   "outputs": [],
   "source": []
  }
 ],
 "metadata": {
  "kernelspec": {
   "display_name": "Python 3",
   "language": "python",
   "name": "python3"
  },
  "language_info": {
   "codemirror_mode": {
    "name": "ipython",
    "version": 3
   },
   "file_extension": ".py",
   "mimetype": "text/x-python",
   "name": "python",
   "nbconvert_exporter": "python",
   "pygments_lexer": "ipython3",
   "version": "3.7.5"
  }
 },
 "nbformat": 4,
 "nbformat_minor": 2
}
