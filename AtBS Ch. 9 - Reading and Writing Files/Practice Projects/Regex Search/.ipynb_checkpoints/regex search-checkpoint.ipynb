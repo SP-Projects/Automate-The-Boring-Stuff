{
 "cells": [
  {
   "cell_type": "code",
   "execution_count": 22,
   "metadata": {},
   "outputs": [
    {
     "name": "stdout",
     "output_type": "stream",
     "text": [
      "gimme a regex:\n",
      "love\n"
     ]
    }
   ],
   "source": [
    "#!python3\n",
    "#the plural of regex is regrets\n",
    "import re, sys\n",
    "from pathlib import Path\n",
    "\n",
    "reg = input('gimme a regex:\\n')\n",
    "if len(reg) >= 1:\n",
    "    resultsPath = Path('./Results/Search Results.txt')\n",
    "    searchPath = Path('.')\n",
    "    resultsFile = open(resultsPath, 'a')\n",
    "    #Todo: Get user regular expression and compile\n",
    "    userReg = re.compile('.*' + reg + '.*')\n",
    "    #TODO: Open all .txt files using glob\n",
    "    txtFileList = list(searchPath.glob('*.txt'))\n",
    "    for f in txtFileList:\n",
    "        currentFile = open(f, 'r')\n",
    "        cfLines = currentFile.readlines()\n",
    "        for l in cfLines:\n",
    "            lMatch = userReg.search(l)\n",
    "            if lMatch:\n",
    "                toSave = str(f) + ': ' + lMatch.group() + '\\n'\n",
    "                resultsFile.write(toSave)\n",
    "    #TODO: Search each line any line containing the expression\n",
    "    #print this line and append to a new text file\n",
    "    resultsFile.close()\n",
    "else:\n",
    "    print('Fuck off')"
   ]
  },
  {
   "cell_type": "code",
   "execution_count": null,
   "metadata": {},
   "outputs": [],
   "source": []
  }
 ],
 "metadata": {
  "kernelspec": {
   "display_name": "Python 3",
   "language": "python",
   "name": "python3"
  },
  "language_info": {
   "codemirror_mode": {
    "name": "ipython",
    "version": 3
   },
   "file_extension": ".py",
   "mimetype": "text/x-python",
   "name": "python",
   "nbconvert_exporter": "python",
   "pygments_lexer": "ipython3",
   "version": "3.7.5"
  }
 },
 "nbformat": 4,
 "nbformat_minor": 2
}
