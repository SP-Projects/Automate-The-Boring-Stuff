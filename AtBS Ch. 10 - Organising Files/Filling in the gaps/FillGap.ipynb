{
 "cells": [
  {
   "cell_type": "markdown",
   "metadata": {},
   "source": [
    "## Filling in the Gaps\n",
    "\n",
    "### Objective:\n",
    "\n",
    " Create a program that, given a file prefix, locates any gaps in the numbering and fills in those gaps.\n",
    "\n",
    "#### Plan:\n",
    "\n",
    " 1. Get the prefix from the user\n",
    " 2. Compile a regex using that prefix\n",
    " 3. Search through a list of files in the folder\n",
    " 4. locate any gaps in numbering\n",
    " 5. Fill in any of those gaps by renaming all files."
   ]
  },
  {
   "cell_type": "code",
   "execution_count": 27,
   "metadata": {},
   "outputs": [
    {
     "name": "stdout",
     "output_type": "stream",
     "text": [
      "Prefix: spam\n",
      "['spam006.txt', 'spam001.txt', 'spam004.txt', 'spam003.txt'] \n",
      " [1, 3, 4, 6]\n"
     ]
    }
   ],
   "source": [
    "import os, re, shutil, pyinputplus as pyip\n",
    "from pathlib import Path\n",
    "\n",
    "#get user prefix\n",
    "#userPath = pyip.inputFilepath('Mo: ')\n",
    "prefix = pyip.inputStr('Prefix: ')\n",
    "\n",
    "\n",
    "#compile a regex using the prefix:\n",
    "prefReg = re.compile('''^{0} # prefix\n",
    "(\\d+) #the numbers\n",
    "(\\..*) #the extension\n",
    "'''.format(prefix), re.VERBOSE)\n",
    "\n",
    "matchList = []\n",
    "numList = []\n",
    "for filename in os.listdir('.'):\n",
    "    mo = prefReg.search(filename)\n",
    "    if mo == None:\n",
    "        continue\n",
    "    matchList.append(mo.group(0))\n",
    "    numList.append(int(mo.group(1)))\n",
    "numList.sort()\n",
    "print(matchList, '\\n', numList)"
   ]
  },
  {
   "cell_type": "code",
   "execution_count": null,
   "metadata": {},
   "outputs": [],
   "source": []
  }
 ],
 "metadata": {
  "kernelspec": {
   "display_name": "Python 3",
   "language": "python",
   "name": "python3"
  },
  "language_info": {
   "codemirror_mode": {
    "name": "ipython",
    "version": 3
   },
   "file_extension": ".py",
   "mimetype": "text/x-python",
   "name": "python",
   "nbconvert_exporter": "python",
   "pygments_lexer": "ipython3",
   "version": "3.7.5"
  }
 },
 "nbformat": 4,
 "nbformat_minor": 2
}
