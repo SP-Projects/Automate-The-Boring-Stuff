{
 "cells": [
  {
   "cell_type": "markdown",
   "metadata": {},
   "source": [
    "## Selective Copy\n",
    "\n",
    "### Objective:\n",
    " Write a program that walks through a folder tree and searchs for files with a certain file extension (such as .pdf of jpg). Copy these files for whatever loacation they are in to a new folder\n",
    "\n",
    " This could be useful for moving pictures in the downloads folder to the pictures folder."
   ]
  },
  {
   "cell_type": "code",
   "execution_count": 41,
   "metadata": {},
   "outputs": [
    {
     "name": "stdout",
     "output_type": "stream",
     "text": [
      "/home/mc/Downloads\n",
      "/home/mc/Downloads/Test\n"
     ]
    }
   ],
   "source": [
    "import os, shutil, re\n",
    "from pathlib import Path\n",
    "\n",
    "def selCopy(folder):\n",
    "    '''\n",
    "    selCopy: a Selective Copying Function.\n",
    "    ======================================\n",
    "    \n",
    "    Given a directory, copies all files with the .jpg or .png extension\n",
    "    to the Pictures directory. \n",
    "    \n",
    "    Inputs\n",
    "    ======\n",
    "    \n",
    "    folder: string path to the folder to be worked through.\n",
    "    '''\n",
    "    \n",
    "    #First Step: get absolute file paths for source and destination:\n",
    "    absFolder = os.path.abspath(folder)\n",
    "    picFolder = Path.home() / 'Pictures'\n",
    "    #compile a regex to find pngs or .jpgs\n",
    "    picReg = re.compile(r'(.*\\.(png|jpg|jpeg))$')\n",
    "    for folderName, subFolders, filenames in os.walk(absFolder):\n",
    "        print(folderName)\n",
    "        for filename in filenames:\n",
    "            #use regex to match png's and jpegs\n",
    "            mo = picReg.search(filename)\n",
    "            if mo == None:\n",
    "                continue\n",
    "            #move file to Pictures\n",
    "            shutil.move(os.path.join(folderName, filename),\\\n",
    "                       os.path.join(picFolder, filename))\n",
    "                \n",
    "    #TODO: Move these\n",
    "selCopy('/home/mc/Downloads')"
   ]
  },
  {
   "cell_type": "code",
   "execution_count": null,
   "metadata": {},
   "outputs": [],
   "source": []
  }
 ],
 "metadata": {
  "kernelspec": {
   "display_name": "Python 3",
   "language": "python",
   "name": "python3"
  },
  "language_info": {
   "codemirror_mode": {
    "name": "ipython",
    "version": 3
   },
   "file_extension": ".py",
   "mimetype": "text/x-python",
   "name": "python",
   "nbconvert_exporter": "python",
   "pygments_lexer": "ipython3",
   "version": "3.7.5"
  }
 },
 "nbformat": 4,
 "nbformat_minor": 2
}
