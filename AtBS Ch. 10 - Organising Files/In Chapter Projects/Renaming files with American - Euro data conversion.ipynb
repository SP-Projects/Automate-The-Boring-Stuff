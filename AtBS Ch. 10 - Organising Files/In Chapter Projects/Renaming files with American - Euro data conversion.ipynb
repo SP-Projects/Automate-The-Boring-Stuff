{
 "cells": [
  {
   "cell_type": "markdown",
   "metadata": {},
   "source": [
    "### Objectives\n",
    " 1. Search All filenames in the cwd for american style dates\n",
    " 2. When one is found, swap the day and month to make the date European\n"
   ]
  },
  {
   "cell_type": "code",
   "execution_count": 18,
   "metadata": {},
   "outputs": [
    {
     "name": "stdout",
     "output_type": "stream",
     "text": [
      "renaming /home/mc/Documents/Python Projects/AtBS Ch. 10 - Organising Files/In Chapter Projects/12-30-1996.txt to /home/mc/Documents/Python Projects/AtBS Ch. 10 - Organising Files/In Chapter Projects/30-12-1996.txt...\n"
     ]
    }
   ],
   "source": [
    "#!python3\n",
    "import os, shutil, re\n",
    "#TODO: Create a regex to identify the text pattern of American Style\\Dates\n",
    "#need to swap dates and months: have days and months in group\n",
    "datePattern = re.compile(r'''^(.*?) #All text before the date\n",
    "((0|1)?\\d)- #one or two digits for the month\n",
    "((0|1|2|3)?\\d)- #one or two digits for the day\n",
    "((19|20)?\\d\\d) #two or four digits for the year\n",
    "(.*?)$\n",
    "''', re.VERBOSE)\n",
    "#^: must begin with\n",
    "#$: Must end with\n",
    "\n",
    "#get the absolute filepath of the cwd\n",
    "absCWD = os.path.abspath('.')\n",
    "for amerFilename in os.listdir('.'):\n",
    "    mo = datePattern.search(amerFilename)\n",
    "    #skip files with no date\n",
    "    if mo == None:\n",
    "        continue\n",
    "    #get the different parts of the filename\n",
    "    beforePart = mo.group(1)\n",
    "    monthPart = mo.group(2)\n",
    "    dayPart = mo.group(4)\n",
    "    yearPart = mo.group(6)\n",
    "    afterPart = mo.group(8)\n",
    "    \n",
    "    #form a new filename\n",
    "    euroFilename = beforePart + dayPart + '-'\\\n",
    "    + monthPart + '-' + yearPart + afterPart\n",
    "\n",
    "    #get absolute paths of current and future locations\n",
    "    amerFilename = os.path.join(absCWD, amerFilename)\n",
    "    euroFilename = os.path.join(absCWD, euroFilename)\n",
    "    print('renaming {0} to {1}...'.format(amerFilename, euroFilename))\n",
    "    \n",
    "    #rename the file using shutil.move()\n",
    "    succ = shutil.move(amerFilename, euroFilename)      \n"
   ]
  },
  {
   "cell_type": "code",
   "execution_count": null,
   "metadata": {},
   "outputs": [],
   "source": []
  }
 ],
 "metadata": {
  "kernelspec": {
   "display_name": "Python 3",
   "language": "python",
   "name": "python3"
  },
  "language_info": {
   "codemirror_mode": {
    "name": "ipython",
    "version": 3
   },
   "file_extension": ".py",
   "mimetype": "text/x-python",
   "name": "python",
   "nbconvert_exporter": "python",
   "pygments_lexer": "ipython3",
   "version": "3.7.5"
  }
 },
 "nbformat": 4,
 "nbformat_minor": 2
}
