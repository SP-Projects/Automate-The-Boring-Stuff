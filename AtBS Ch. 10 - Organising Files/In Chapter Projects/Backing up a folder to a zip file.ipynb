{
 "cells": [
  {
   "cell_type": "markdown",
   "metadata": {},
   "source": [
    "### Objective\n",
    "\n",
    " - Create zip file \"snapshots\" of an entire folder.\n",
    " - Keep multiple versions, so the ZIP files filename must increment each time it is made\n",
    " - Tedious to do by hand, and thus perfect for automation."
   ]
  },
  {
   "cell_type": "code",
   "execution_count": 9,
   "metadata": {},
   "outputs": [
    {
     "name": "stdout",
     "output_type": "stream",
     "text": [
      "Creating In Chapter Projects_2.zip\n",
      "Adding Files in /home/mc/Documents/Python Projects/AtBS Ch. 10 - Organising Files/In Chapter Projects\n",
      "Adding Files in /home/mc/Documents/Python Projects/AtBS Ch. 10 - Organising Files/In Chapter Projects/.ipynb_checkpoints\n"
     ]
    }
   ],
   "source": [
    "#! python3\n",
    "# backupToZip.py - copies an entire folder and it's contents to\n",
    "# a zip file with an incrementing filename\n",
    "\n",
    "import zipfile as zf\n",
    "import os\n",
    "\n",
    "def backupToZip(folder):\n",
    "    '''\n",
    "    backupToZip(folder)\n",
    "    ===================\n",
    "    \n",
    "    Takes a folder as an input and copies the entire contents of the \n",
    "    folder into a zip file.\n",
    "    If a backup copy exists, a new archive is created wit an \n",
    "    incremented filename\n",
    "    \n",
    "    Inputs\n",
    "    ======\n",
    "    \n",
    "    folder: A string path to the folder whose contents are to be back up.\n",
    "    '''\n",
    "    folder = os.path.abspath(folder) #get the absolute file path\n",
    "    #figure out the filename\n",
    "    #figure out which files already exist by walking through dir\n",
    "    number = 1\n",
    "    while True:\n",
    "        #create the zip file\n",
    "        zipFilename = os.path.basename(folder) + '_' + \\\n",
    "        str(number) + '.zip'\n",
    "        #check that this filename does not already exist\n",
    "        if not os.path.exists(zipFilename):\n",
    "            break\n",
    "        number = number + 1 #increment if the file already exists\n",
    "\n",
    "    print('Creating {0}'.format(zipFilename))\n",
    "    backupZip = zf.ZipFile(zipFilename, 'w') #zip object in zip mode\n",
    "\n",
    "    #Walk the entire folder tree and compress the files in\n",
    "    # each folder\n",
    "    for foldername, subfolders, filenames in os.walk(folder):\n",
    "        print('Adding Files in {0}'.format(foldername))\n",
    "        #Add the current folder to the zip file\n",
    "        backupZip.write(foldername)\n",
    "        #add all files in this folder to the Zip file\n",
    "        for filename in filenames:\n",
    "            newBase = os.path.basename(folder) + '_'\n",
    "            if filename.startswith(newBase) and filename.endswith('.zip'):\n",
    "                continue #don't back up the backup ZIP files\n",
    "            backupZip.write(os.path.join(foldername, filename))\n",
    "    backupZip.close()\n",
    "        \n",
    "backupToZip('.')"
   ]
  },
  {
   "cell_type": "code",
   "execution_count": null,
   "metadata": {},
   "outputs": [],
   "source": []
  },
  {
   "cell_type": "code",
   "execution_count": null,
   "metadata": {},
   "outputs": [],
   "source": []
  }
 ],
 "metadata": {
  "kernelspec": {
   "display_name": "Python 3",
   "language": "python",
   "name": "python3"
  },
  "language_info": {
   "codemirror_mode": {
    "name": "ipython",
    "version": 3
   },
   "file_extension": ".py",
   "mimetype": "text/x-python",
   "name": "python",
   "nbconvert_exporter": "python",
   "pygments_lexer": "ipython3",
   "version": "3.7.5"
  }
 },
 "nbformat": 4,
 "nbformat_minor": 2
}
