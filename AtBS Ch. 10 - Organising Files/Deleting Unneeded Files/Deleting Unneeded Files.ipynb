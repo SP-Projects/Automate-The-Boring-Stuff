{
 "cells": [
  {
   "cell_type": "markdown",
   "metadata": {},
   "source": [
    "## Objective\n",
    "\n",
    " - Walk through a folder tree\n",
    " - Print the names of any files or folders larger than 10MB\n",
    " "
   ]
  },
  {
   "cell_type": "code",
   "execution_count": 12,
   "metadata": {},
   "outputs": [
    {
     "ename": "SyntaxError",
     "evalue": "unexpected EOF while parsing (<ipython-input-12-7b526c2c3510>, line 26)",
     "output_type": "error",
     "traceback": [
      "\u001b[0;36m  File \u001b[0;32m\"<ipython-input-12-7b526c2c3510>\"\u001b[0;36m, line \u001b[0;32m26\u001b[0m\n\u001b[0;31m    print('{0} is {1} in size'.format(filename, filename_size))\u001b[0m\n\u001b[0m                                                               ^\u001b[0m\n\u001b[0;31mSyntaxError\u001b[0m\u001b[0;31m:\u001b[0m unexpected EOF while parsing\n"
     ]
    }
   ],
   "source": [
    "from pathlib import Path\n",
    "import shutil, os\n",
    "import pyinputplus as pyip\n",
    "\n",
    "try:\n",
    "    folderLoc = pyip.inputFilepath('Enter a filepath: ', limit = 3)\n",
    "    \n",
    "    folderLoc = os.path.abspath(folderLoc)\n",
    "\n",
    "    for folder, subfolders, filenames in os.walk(folderLoc):\n",
    "        #folders is a list of all nested folders\n",
    "        for subfolder in subfolders:\n",
    "            #subfolders is a list of the subfolders within a folder\n",
    "            subfolder_loc = os.path.join(folder, subfolder)\n",
    "            subfolder_size = os.path.getsize(subfolder_loc)\n",
    "            if subfolder_size > 10e6:\n",
    "                #if size greater than 10MB\n",
    "                print('{0} is {1} in size'.format(subfolder, subfolder_size))\n",
    "        \n",
    "        for filename in filenames:\n",
    "            #filenames is a list of files in each folder\n",
    "            filename_loc = os.path.join(folder, filename)\n",
    "            filename_size = os.path.getsize(filename_loc)\n",
    "            if filename_size > 10e6:\n",
    "                #if size greater than 10MB\n",
    "                print('{0} is {1} in size'.format(filename, filename_size))"
   ]
  },
  {
   "cell_type": "code",
   "execution_count": null,
   "metadata": {},
   "outputs": [],
   "source": []
  }
 ],
 "metadata": {
  "kernelspec": {
   "display_name": "Python 3",
   "language": "python",
   "name": "python3"
  },
  "language_info": {
   "codemirror_mode": {
    "name": "ipython",
    "version": 3
   },
   "file_extension": ".py",
   "mimetype": "text/x-python",
   "name": "python",
   "nbconvert_exporter": "python",
   "pygments_lexer": "ipython3",
   "version": "3.7.5"
  }
 },
 "nbformat": 4,
 "nbformat_minor": 2
}
